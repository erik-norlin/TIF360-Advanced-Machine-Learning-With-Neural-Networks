{
  "cells": [
    {
      "cell_type": "markdown",
      "source": [
        "Assignment on Graph Neural Networks in the course Advanced machine learning using neural networks (Chalmers and University of Gothenburg).\n",
        "\n",
        "The objective is to train a GNN that works as a graph classifier on the provided data. The data comes from simulations of a 25 qubit quantum memory (surface code) with individual error rates of 5% per cycle of measurements (see assignment text for a little more detail). Since the data consists of graphs with varying number of nodes the way to implement the classifier is to make a graph embedding, i.e. a mapping of each graph to a vector of fixed size. This can then be used for classification. The typical structure would be Graph data-> Graph (convolution or other) layers -> Pooling -> Dense classifier.\n",
        "\n",
        "For this data the classification accuracy of the standard graph algorithm based decoder (minimum weight perfect matching) is 0.983. It may be hard to reach this without an even larger dataset, but it can serve as a target. Anything above an accuracy of 0.95 is acceptable. (This means that the quantum memory has a lower failure rate than the individual qubits, which is set at 5% to generate the data.)"
      ],
      "metadata": {
        "id": "BLORBK-MDgBz"
      }
    },
    {
      "cell_type": "code",
      "execution_count": null,
      "metadata": {
        "colab": {
          "base_uri": "https://localhost:8080/"
        },
        "id": "SPl6uW89NQ6T",
        "outputId": "3b1b6808-f717-443f-ea6c-19e2d43c6062"
      },
      "outputs": [
        {
          "output_type": "stream",
          "name": "stdout",
          "text": [
            "\u001b[?25l     \u001b[90m━━━━━━━━━━━━━━━━━━━━━━━━━━━━━━━━━━━━━━━━\u001b[0m \u001b[32m0.0/107.6 kB\u001b[0m \u001b[31m?\u001b[0m eta \u001b[36m-:--:--\u001b[0m\r\u001b[2K     \u001b[90m━━━━━━━━━━━━━━━━━━━━━━━━━━━━━━━━━━━━━━━\u001b[0m \u001b[32m107.6/107.6 kB\u001b[0m \u001b[31m2.8 MB/s\u001b[0m eta \u001b[36m0:00:00\u001b[0m\n",
            "\u001b[?25h  Preparing metadata (setup.py) ... \u001b[?25l\u001b[?25hdone\n",
            "  Building wheel for torch-scatter (setup.py) ... \u001b[?25l\u001b[?25hdone\n",
            "\u001b[2K     \u001b[90m━━━━━━━━━━━━━━━━━━━━━━━━━━━━━━━━━━━━━━━\u001b[0m \u001b[32m209.2/209.2 kB\u001b[0m \u001b[31m3.2 MB/s\u001b[0m eta \u001b[36m0:00:00\u001b[0m\n",
            "\u001b[?25h  Preparing metadata (setup.py) ... \u001b[?25l\u001b[?25hdone\n",
            "  Building wheel for torch-sparse (setup.py) ... \u001b[?25l\u001b[?25hcanceled\n",
            "\u001b[31mERROR: Operation cancelled by user\u001b[0m\u001b[31m\n",
            "\u001b[0mTraceback (most recent call last):\n",
            "  File \"/usr/local/lib/python3.10/dist-packages/pip/_internal/cli/base_command.py\", line 160, in exc_logging_wrapper\n",
            "    status = run_func(*args)\n",
            "  File \"/usr/local/lib/python3.10/dist-packages/pip/_internal/cli/req_command.py\", line 241, in wrapper\n",
            "    return func(self, options, args)\n",
            "  File \"/usr/local/lib/python3.10/dist-packages/pip/_internal/commands/install.py\", line 463, in run\n",
            "    _, build_failures = build(\n",
            "  File \"/usr/local/lib/python3.10/dist-packages/pip/_internal/wheel_builder.py\", line 347, in build\n",
            "    wheel_file = _build_one(\n",
            "  File \"/usr/local/lib/python3.10/dist-packages/pip/_internal/wheel_builder.py\", line 221, in _build_one\n",
            "    wheel_path = _build_one_inside_env(\n",
            "  File \"/usr/local/lib/python3.10/dist-packages/pip/_internal/wheel_builder.py\", line 268, in _build_one_inside_env\n",
            "    wheel_path = build_wheel_legacy(\n",
            "  File \"/usr/local/lib/python3.10/dist-packages/pip/_internal/operations/build/wheel_legacy.py\", line 83, in build_wheel_legacy\n",
            "    output = call_subprocess(\n",
            "  File \"/usr/local/lib/python3.10/dist-packages/pip/_internal/utils/subprocess.py\", line 166, in call_subprocess\n",
            "    line: str = proc.stdout.readline()\n",
            "KeyboardInterrupt\n",
            "\n",
            "During handling of the above exception, another exception occurred:\n",
            "\n",
            "Traceback (most recent call last):\n",
            "  File \"/usr/local/bin/pip3\", line 8, in <module>\n",
            "    sys.exit(main())\n",
            "  File \"/usr/local/lib/python3.10/dist-packages/pip/_internal/cli/main.py\", line 70, in main\n",
            "    return command.main(cmd_args)\n",
            "  File \"/usr/local/lib/python3.10/dist-packages/pip/_internal/cli/base_command.py\", line 101, in main\n",
            "    return self._main(args)\n",
            "  File \"/usr/local/lib/python3.10/dist-packages/pip/_internal/cli/base_command.py\", line 214, in _main\n",
            "    return run(options, args)\n",
            "  File \"/usr/local/lib/python3.10/dist-packages/pip/_internal/cli/base_command.py\", line 198, in exc_logging_wrapper\n",
            "    logger.debug(\"Exception information:\", exc_info=True)\n",
            "  File \"/usr/lib/python3.10/logging/__init__.py\", line 1465, in debug\n",
            "    self._log(DEBUG, msg, args, **kwargs)\n",
            "  File \"/usr/lib/python3.10/logging/__init__.py\", line 1624, in _log\n",
            "    self.handle(record)\n",
            "  File \"/usr/lib/python3.10/logging/__init__.py\", line 1634, in handle\n",
            "    self.callHandlers(record)\n",
            "  File \"/usr/lib/python3.10/logging/__init__.py\", line 1696, in callHandlers\n",
            "    hdlr.handle(record)\n",
            "  File \"/usr/lib/python3.10/logging/__init__.py\", line 968, in handle\n",
            "    self.emit(record)\n",
            "  File \"/usr/lib/python3.10/logging/handlers.py\", line 75, in emit\n",
            "    logging.FileHandler.emit(self, record)\n",
            "  File \"/usr/lib/python3.10/logging/__init__.py\", line 1218, in emit\n",
            "    StreamHandler.emit(self, record)\n",
            "  File \"/usr/lib/python3.10/logging/__init__.py\", line 1100, in emit\n",
            "    msg = self.format(record)\n",
            "  File \"/usr/lib/python3.10/logging/__init__.py\", line 943, in format\n",
            "    return fmt.format(record)\n",
            "  File \"/usr/local/lib/python3.10/dist-packages/pip/_internal/utils/logging.py\", line 112, in format\n",
            "    formatted = super().format(record)\n",
            "  File \"/usr/lib/python3.10/logging/__init__.py\", line 686, in format\n",
            "    record.exc_text = self.formatException(record.exc_info)\n",
            "  File \"/usr/lib/python3.10/logging/__init__.py\", line 636, in formatException\n",
            "    traceback.print_exception(ei[0], ei[1], tb, None, sio)\n",
            "  File \"/usr/lib/python3.10/traceback.py\", line 119, in print_exception\n",
            "    te = TracebackException(type(value), value, tb, limit=limit, compact=True)\n",
            "  File \"/usr/lib/python3.10/traceback.py\", line 502, in __init__\n",
            "    self.stack = StackSummary.extract(\n",
            "  File \"/usr/lib/python3.10/traceback.py\", line 383, in extract\n",
            "    f.line\n",
            "  File \"/usr/lib/python3.10/traceback.py\", line 306, in line\n",
            "    self._line = linecache.getline(self.filename, self.lineno)\n",
            "  File \"/usr/lib/python3.10/linecache.py\", line 30, in getline\n",
            "    lines = getlines(filename, module_globals)\n",
            "  File \"/usr/lib/python3.10/linecache.py\", line 46, in getlines\n",
            "    return updatecache(filename, module_globals)\n",
            "  File \"/usr/lib/python3.10/linecache.py\", line 136, in updatecache\n",
            "    with tokenize.open(fullname) as fp:\n",
            "  File \"/usr/lib/python3.10/tokenize.py\", line 396, in open\n",
            "    encoding, lines = detect_encoding(buffer.readline)\n",
            "  File \"/usr/lib/python3.10/tokenize.py\", line 365, in detect_encoding\n",
            "    first = read_or_stop()\n",
            "  File \"/usr/lib/python3.10/tokenize.py\", line 323, in read_or_stop\n",
            "    return readline()\n",
            "KeyboardInterrupt\n",
            "^C\n",
            "  Installing build dependencies ... \u001b[?25l\u001b[?25hdone\n",
            "  Getting requirements to build wheel ... \u001b[?25l\u001b[?25hdone\n",
            "  Preparing metadata (pyproject.toml) ... \u001b[?25l\u001b[?25hdone\n",
            "  Building wheel for torch_geometric (pyproject.toml) ... \u001b[?25l\u001b[?25hdone\n"
          ]
        }
      ],
      "source": [
        "#This takes a while\n",
        "!pip install -q torch-scatter -f https://data.pyg.org/whl/torch-1.10.0+cu113.html\n",
        "!pip install -q torch-sparse -f https://data.pyg.org/whl/torch-1.10.0+cu113.html\n",
        "!pip install -q git+https://github.com/pyg-team/pytorch_geometric.git"
      ]
    },
    {
      "cell_type": "markdown",
      "source": [
        "Some suggested GNN layers, you're welcome to try other."
      ],
      "metadata": {
        "id": "_J-i6HcHD1hp"
      }
    },
    {
      "cell_type": "code",
      "execution_count": null,
      "metadata": {
        "id": "yBprsXRCHd_K"
      },
      "outputs": [],
      "source": [
        "import numpy as np\n",
        "import matplotlib.pyplot as plt\n",
        "import torch\n",
        "import torch_geometric\n",
        "from torch_geometric.loader import DataLoader\n",
        "import torch_geometric.utils as utils\n",
        "import networkx as nx\n",
        "from torch.nn import Linear, Sequential, BatchNorm1d, ReLU, Dropout\n",
        "from torch_geometric.nn import global_mean_pool, global_add_pool, GraphConv, GATConv, GCNConv, GINConv\n",
        "import torch.nn.functional as F\n",
        "\n",
        "%config InlineBackend.figure_format = 'svg'"
      ]
    },
    {
      "cell_type": "markdown",
      "source": [
        "The following shows how to load the data if it's available in your Google drive"
      ],
      "metadata": {
        "id": "o0Es1Z7y3m12"
      }
    },
    {
      "cell_type": "code",
      "execution_count": null,
      "metadata": {
        "id": "ZM2cn8zUNOUC",
        "colab": {
          "base_uri": "https://localhost:8080/"
        },
        "outputId": "4ef4cf3b-ff8a-45d2-e990-449288b7b5c2"
      },
      "outputs": [
        {
          "output_type": "stream",
          "name": "stdout",
          "text": [
            "Mounted at /content/drive\n"
          ]
        }
      ],
      "source": [
        "#If the data is available in your Google drive:\n",
        "from google.colab import drive\n",
        "drive.mount('/content/drive')"
      ]
    },
    {
      "cell_type": "code",
      "source": [
        "#It's a quite big dataset, so may take a few minutes\n",
        "dataset = torch.load('/content/drive/MyDrive/graph_data_decoding_2023.pt')"
      ],
      "metadata": {
        "id": "52G3cDT3_F6f"
      },
      "execution_count": null,
      "outputs": []
    },
    {
      "cell_type": "code",
      "source": [
        "from google.colab import drive\n",
        "drive.mount('/content/drive', force_remount=True)"
      ],
      "metadata": {
        "colab": {
          "base_uri": "https://localhost:8080/"
        },
        "id": "ODxoqr0Aox4s",
        "outputId": "d55c0b54-8f22-4afc-c8ab-ae61e13d11db"
      },
      "execution_count": null,
      "outputs": [
        {
          "output_type": "stream",
          "name": "stdout",
          "text": [
            "Mounted at /content/drive\n"
          ]
        }
      ]
    },
    {
      "cell_type": "markdown",
      "source": [
        "Properties of the graphs"
      ],
      "metadata": {
        "id": "Ux_zHYdzn7pO"
      }
    },
    {
      "cell_type": "code",
      "source": [
        "print('====================')\n",
        "print(f'Number of graphs: {len(dataset)}')\n",
        "print('=============================================================')\n",
        "data = dataset[2]  # Get one data point.\n",
        "\n",
        "print('Some properties of a graph in the dataset:')\n",
        "\n",
        "print(data)\n",
        "# Gather some statistics about the graph.\n",
        "print(f'Number of nodes: {data.num_nodes}')\n",
        "print(f'Number of edges: {data.num_edges}')\n",
        "print(f'Average node degree: {data.num_edges / data.num_nodes:.2f}')\n",
        "print(f'Has isolated nodes: {data.has_isolated_nodes()}')\n",
        "print(f'Has self-loops: {data.has_self_loops()}')\n",
        "print(f'Is undirected: {data.is_undirected()}')\n",
        "print(f'Number of node features: {data.num_node_features}')\n",
        "\n"
      ],
      "metadata": {
        "colab": {
          "base_uri": "https://localhost:8080/"
        },
        "id": "hIkWx23qFTzi",
        "outputId": "df72f2a6-c566-470e-f25f-ca726381a239"
      },
      "execution_count": null,
      "outputs": [
        {
          "output_type": "stream",
          "name": "stdout",
          "text": [
            "====================\n",
            "Number of graphs: 1000000\n",
            "=============================================================\n",
            "Some properties of a graph in the dataset:\n",
            "Data(x=[3, 4], edge_index=[2, 6], edge_attr=[6, 1], y=[1, 2])\n",
            "Number of nodes: 3\n",
            "Number of edges: 6\n",
            "Average node degree: 2.00\n",
            "Has isolated nodes: False\n",
            "Has self-loops: False\n",
            "Is undirected: True\n",
            "Number of node features: 4\n"
          ]
        }
      ]
    },
    {
      "cell_type": "markdown",
      "source": [
        "Note that the label y, is given by a tensor with 2 elements, giving a binary representation of the predicted equivalence class.\n",
        "\n",
        "*   00 <-> class I\n",
        "*   10 <-> class X\n",
        "*   01 <-> class Z\n",
        "*   11 <-> class Y\n",
        "\n",
        "The loss can either be constructed using two spearate classifiers, one for X and one for Z, or combined into one over all four classes. Either should work.\n",
        "\n"
      ],
      "metadata": {
        "id": "jOUrrERgoNeh"
      }
    },
    {
      "cell_type": "code",
      "source": [
        "label=data.y\n",
        "label_X=label[:,0]\n",
        "label_Z=label[:,1]\n",
        "print(label_X,label_Z)\n",
        "#The data point dataset[20] is thus in class X"
      ],
      "metadata": {
        "colab": {
          "base_uri": "https://localhost:8080/"
        },
        "id": "Xgi_qejs61_M",
        "outputId": "82fb6561-e690-4e94-9db2-fae19cca98aa"
      },
      "execution_count": null,
      "outputs": [
        {
          "output_type": "stream",
          "name": "stdout",
          "text": [
            "tensor([1.]) tensor([0.])\n"
          ]
        }
      ]
    },
    {
      "cell_type": "markdown",
      "source": [
        "The data consists of 4-dimensional feature vector per node, and each edge comes with a scalar weight."
      ],
      "metadata": {
        "id": "jBFtjQn8ozjp"
      }
    },
    {
      "cell_type": "code",
      "source": [
        "edge_index = data.edge_index.t()\n",
        "edge_index=edge_index.numpy()\n",
        "feature=data.x.numpy()\n",
        "edge=data.edge_attr.numpy()\n",
        "print(edge_index)\n",
        "print(edge)\n",
        "print(feature)"
      ],
      "metadata": {
        "colab": {
          "base_uri": "https://localhost:8080/"
        },
        "id": "UmRJLJ_egvi5",
        "outputId": "946ec9b5-23d8-40c8-93b1-ab23cc36582d"
      },
      "execution_count": null,
      "outputs": [
        {
          "output_type": "stream",
          "name": "stdout",
          "text": [
            "[[0 1]\n",
            " [0 2]\n",
            " [1 0]\n",
            " [1 2]\n",
            " [2 0]\n",
            " [2 1]]\n",
            "[[0.11111111]\n",
            " [0.25      ]\n",
            " [0.11111111]\n",
            " [1.        ]\n",
            " [0.25      ]\n",
            " [1.        ]]\n",
            "[[0.  1.  0.2 0.4]\n",
            " [0.  1.  0.4 1. ]\n",
            " [0.  1.  0.6 0.8]]\n"
          ]
        }
      ]
    },
    {
      "cell_type": "code",
      "source": [
        "graph = dataset[2]\n",
        "g = utils.to_networkx(graph, to_undirected=True)\n",
        "positions = {}\n",
        "label_positions = {}\n",
        "node_labels = {}\n",
        "edge_labels={}\n",
        "x = graph.x\n",
        "for i in range(x.shape[0]):\n",
        "    positions[i] = np.array([x[i, 2], x[i, 3]])\n",
        "    label_positions[i] = np.array([x[i, 2], x[i, 3]])\n",
        "    node_labels[i] = np.array([x[i, 0], x[i, 1], x[i, 2], x[i, 3]])\n",
        "for i in range(edge_index.shape[0]):\n",
        "    edge_labels[(edge_index[i,0],edge_index[i,1])]=edge[i]"
      ],
      "metadata": {
        "id": "gYT-I9ICyXax"
      },
      "execution_count": null,
      "outputs": []
    },
    {
      "cell_type": "code",
      "source": [
        "fig, ax = plt.subplots(figsize = (10, 10))\n",
        "nx.draw_networkx(g, ax=ax, pos = positions, labels = node_labels, with_labels = False)\n",
        "nx.draw_networkx_labels(g, ax=ax, pos = label_positions, labels = node_labels, verticalalignment= 'top')\n",
        "nx.draw_networkx_edge_labels(g,ax=ax,  pos = positions,edge_labels=edge_labels)\n",
        "ax.axis('off')"
      ],
      "metadata": {
        "colab": {
          "base_uri": "https://localhost:8080/",
          "height": 850
        },
        "id": "1dpkEV8lyjXt",
        "outputId": "c567c6d2-60ab-4431-aa74-110ea1f37670"
      },
      "execution_count": null,
      "outputs": [
        {
          "output_type": "execute_result",
          "data": {
            "text/plain": [
              "(0.15799999997019767,\n",
              " 0.6420000268518924,\n",
              " 0.3370000049471855,\n",
              " 1.063000001013279)"
            ]
          },
          "metadata": {},
          "execution_count": 14
        },
        {
          "output_type": "display_data",
          "data": {
            "text/plain": [
              "<Figure size 1000x1000 with 1 Axes>"
            ],
            "image/svg+xml": "<?xml version=\"1.0\" encoding=\"utf-8\" standalone=\"no\"?>\n<!DOCTYPE svg PUBLIC \"-//W3C//DTD SVG 1.1//EN\"\n  \"http://www.w3.org/Graphics/SVG/1.1/DTD/svg11.dtd\">\n<svg xmlns:xlink=\"http://www.w3.org/1999/xlink\" width=\"572.4pt\" height=\"568.8pt\" viewBox=\"0 0 572.4 568.8\" xmlns=\"http://www.w3.org/2000/svg\" version=\"1.1\">\n <metadata>\n  <rdf:RDF xmlns:dc=\"http://purl.org/dc/elements/1.1/\" xmlns:cc=\"http://creativecommons.org/ns#\" xmlns:rdf=\"http://www.w3.org/1999/02/22-rdf-syntax-ns#\">\n   <cc:Work>\n    <dc:type rdf:resource=\"http://purl.org/dc/dcmitype/StillImage\"/>\n    <dc:date>2023-04-22T11:00:52.211558</dc:date>\n    <dc:format>image/svg+xml</dc:format>\n    <dc:creator>\n     <cc:Agent>\n      <dc:title>Matplotlib v3.7.1, https://matplotlib.org/</dc:title>\n     </cc:Agent>\n    </dc:creator>\n   </cc:Work>\n  </rdf:RDF>\n </metadata>\n <defs>\n  <style type=\"text/css\">*{stroke-linejoin: round; stroke-linecap: butt}</style>\n </defs>\n <g id=\"figure_1\">\n  <g id=\"patch_1\">\n   <path d=\"M 0 568.8 \nL 572.4 568.8 \nL 572.4 0 \nL 0 0 \nz\n\" style=\"fill: #ffffff\"/>\n  </g>\n  <g id=\"axes_1\">\n   <g id=\"LineCollection_1\">\n    <path d=\"M 55.621488 513.490908 \nL 286.199991 55.309092 \n\" clip-path=\"url(#p4f944ca353)\" style=\"fill: none; stroke: #000000\"/>\n    <path d=\"M 55.621488 513.490908 \nL 516.778512 208.036356 \n\" clip-path=\"url(#p4f944ca353)\" style=\"fill: none; stroke: #000000\"/>\n    <path d=\"M 286.199991 55.309092 \nL 516.778512 208.036356 \n\" clip-path=\"url(#p4f944ca353)\" style=\"fill: none; stroke: #000000\"/>\n   </g>\n   <g id=\"text_1\">\n    <g id=\"patch_2\">\n     <path d=\"M 162.574208 318.403757 \nL 193.251977 257.444066 \nQ 194.600574 254.764274 191.920782 253.415677 \nL 183.275661 249.065048 \nQ 180.595868 247.716451 179.247271 250.396243 \nL 148.569502 311.355934 \nQ 147.220906 314.035726 149.900698 315.384323 \nL 158.545819 319.734952 \nQ 161.225612 321.083549 162.574208 318.403757 \nz\n\" clip-path=\"url(#p4f944ca353)\" style=\"fill: #ffffff; stroke: #ffffff; stroke-linejoin: miter\"/>\n    </g>\n    <g clip-path=\"url(#p4f944ca353)\">\n     <!-- [0.11111111] -->\n     <g transform=\"translate(158.036706 316.120274) rotate(-63.28632) scale(0.1 -0.1)\">\n      <defs>\n       <path id=\"DejaVuSans-5b\" d=\"M 550 4863 \nL 1875 4863 \nL 1875 4416 \nL 1125 4416 \nL 1125 -397 \nL 1875 -397 \nL 1875 -844 \nL 550 -844 \nL 550 4863 \nz\n\" transform=\"scale(0.015625)\"/>\n       <path id=\"DejaVuSans-30\" d=\"M 2034 4250 \nQ 1547 4250 1301 3770 \nQ 1056 3291 1056 2328 \nQ 1056 1369 1301 889 \nQ 1547 409 2034 409 \nQ 2525 409 2770 889 \nQ 3016 1369 3016 2328 \nQ 3016 3291 2770 3770 \nQ 2525 4250 2034 4250 \nz\nM 2034 4750 \nQ 2819 4750 3233 4129 \nQ 3647 3509 3647 2328 \nQ 3647 1150 3233 529 \nQ 2819 -91 2034 -91 \nQ 1250 -91 836 529 \nQ 422 1150 422 2328 \nQ 422 3509 836 4129 \nQ 1250 4750 2034 4750 \nz\n\" transform=\"scale(0.015625)\"/>\n       <path id=\"DejaVuSans-2e\" d=\"M 684 794 \nL 1344 794 \nL 1344 0 \nL 684 0 \nL 684 794 \nz\n\" transform=\"scale(0.015625)\"/>\n       <path id=\"DejaVuSans-31\" d=\"M 794 531 \nL 1825 531 \nL 1825 4091 \nL 703 3866 \nL 703 4441 \nL 1819 4666 \nL 2450 4666 \nL 2450 531 \nL 3481 531 \nL 3481 0 \nL 794 0 \nL 794 531 \nz\n\" transform=\"scale(0.015625)\"/>\n       <path id=\"DejaVuSans-5d\" d=\"M 1947 4863 \nL 1947 -844 \nL 622 -844 \nL 622 -397 \nL 1369 -397 \nL 1369 4416 \nL 622 4416 \nL 622 4863 \nL 1947 4863 \nz\n\" transform=\"scale(0.015625)\"/>\n      </defs>\n      <use xlink:href=\"#DejaVuSans-5b\"/>\n      <use xlink:href=\"#DejaVuSans-30\" x=\"39.013672\"/>\n      <use xlink:href=\"#DejaVuSans-2e\" x=\"102.636719\"/>\n      <use xlink:href=\"#DejaVuSans-31\" x=\"134.423828\"/>\n      <use xlink:href=\"#DejaVuSans-31\" x=\"198.046875\"/>\n      <use xlink:href=\"#DejaVuSans-31\" x=\"261.669922\"/>\n      <use xlink:href=\"#DejaVuSans-31\" x=\"325.292969\"/>\n      <use xlink:href=\"#DejaVuSans-31\" x=\"388.916016\"/>\n      <use xlink:href=\"#DejaVuSans-31\" x=\"452.539062\"/>\n      <use xlink:href=\"#DejaVuSans-31\" x=\"516.162109\"/>\n      <use xlink:href=\"#DejaVuSans-31\" x=\"579.785156\"/>\n      <use xlink:href=\"#DejaVuSans-5d\" x=\"643.408203\"/>\n     </g>\n    </g>\n   </g>\n   <g id=\"text_2\">\n    <g id=\"patch_3\">\n     <path d=\"M 277.994667 375.601282 \nL 303.063032 358.99686 \nQ 305.564137 357.340214 303.907491 354.83911 \nL 298.563083 346.770442 \nQ 296.906437 344.269337 294.405333 345.925982 \nL 269.336968 362.530404 \nQ 266.835863 364.18705 268.492509 366.688155 \nL 273.836917 374.756823 \nQ 275.493563 377.257928 277.994667 375.601282 \nz\n\" clip-path=\"url(#p4f944ca353)\" style=\"fill: #ffffff; stroke: #ffffff; stroke-linejoin: miter\"/>\n    </g>\n    <g clip-path=\"url(#p4f944ca353)\">\n     <!-- [0.25] -->\n     <g transform=\"translate(275.189587 371.366338) rotate(-33.519121) scale(0.1 -0.1)\">\n      <defs>\n       <path id=\"DejaVuSans-32\" d=\"M 1228 531 \nL 3431 531 \nL 3431 0 \nL 469 0 \nL 469 531 \nQ 828 903 1448 1529 \nQ 2069 2156 2228 2338 \nQ 2531 2678 2651 2914 \nQ 2772 3150 2772 3378 \nQ 2772 3750 2511 3984 \nQ 2250 4219 1831 4219 \nQ 1534 4219 1204 4116 \nQ 875 4013 500 3803 \nL 500 4441 \nQ 881 4594 1212 4672 \nQ 1544 4750 1819 4750 \nQ 2544 4750 2975 4387 \nQ 3406 4025 3406 3419 \nQ 3406 3131 3298 2873 \nQ 3191 2616 2906 2266 \nQ 2828 2175 2409 1742 \nQ 1991 1309 1228 531 \nz\n\" transform=\"scale(0.015625)\"/>\n       <path id=\"DejaVuSans-35\" d=\"M 691 4666 \nL 3169 4666 \nL 3169 4134 \nL 1269 4134 \nL 1269 2991 \nQ 1406 3038 1543 3061 \nQ 1681 3084 1819 3084 \nQ 2600 3084 3056 2656 \nQ 3513 2228 3513 1497 \nQ 3513 744 3044 326 \nQ 2575 -91 1722 -91 \nQ 1428 -91 1123 -41 \nQ 819 9 494 109 \nL 494 744 \nQ 775 591 1075 516 \nQ 1375 441 1709 441 \nQ 2250 441 2565 725 \nQ 2881 1009 2881 1497 \nQ 2881 1984 2565 2268 \nQ 2250 2553 1709 2553 \nQ 1456 2553 1204 2497 \nQ 953 2441 691 2322 \nL 691 4666 \nz\n\" transform=\"scale(0.015625)\"/>\n      </defs>\n      <use xlink:href=\"#DejaVuSans-5b\"/>\n      <use xlink:href=\"#DejaVuSans-30\" x=\"39.013672\"/>\n      <use xlink:href=\"#DejaVuSans-2e\" x=\"102.636719\"/>\n      <use xlink:href=\"#DejaVuSans-32\" x=\"134.423828\"/>\n      <use xlink:href=\"#DejaVuSans-35\" x=\"198.046875\"/>\n      <use xlink:href=\"#DejaVuSans-5d\" x=\"261.669922\"/>\n     </g>\n    </g>\n   </g>\n   <g id=\"text_3\">\n    <g id=\"patch_4\">\n     <path d=\"M 162.57421 318.403757 \nL 193.251976 257.444065 \nQ 194.600573 254.764273 191.920781 253.415676 \nL 183.275659 249.065047 \nQ 180.595867 247.71645 179.24727 250.396243 \nL 148.569504 311.355935 \nQ 147.220907 314.035727 149.900699 315.384324 \nL 158.545821 319.734953 \nQ 161.225613 321.08355 162.57421 318.403757 \nz\n\" clip-path=\"url(#p4f944ca353)\" style=\"fill: #ffffff; stroke: #ffffff; stroke-linejoin: miter\"/>\n    </g>\n    <g clip-path=\"url(#p4f944ca353)\">\n     <!-- [0.11111111] -->\n     <g transform=\"translate(158.036707 316.120274) rotate(-63.286323) scale(0.1 -0.1)\">\n      <use xlink:href=\"#DejaVuSans-5b\"/>\n      <use xlink:href=\"#DejaVuSans-30\" x=\"39.013672\"/>\n      <use xlink:href=\"#DejaVuSans-2e\" x=\"102.636719\"/>\n      <use xlink:href=\"#DejaVuSans-31\" x=\"134.423828\"/>\n      <use xlink:href=\"#DejaVuSans-31\" x=\"198.046875\"/>\n      <use xlink:href=\"#DejaVuSans-31\" x=\"261.669922\"/>\n      <use xlink:href=\"#DejaVuSans-31\" x=\"325.292969\"/>\n      <use xlink:href=\"#DejaVuSans-31\" x=\"388.916016\"/>\n      <use xlink:href=\"#DejaVuSans-31\" x=\"452.539062\"/>\n      <use xlink:href=\"#DejaVuSans-31\" x=\"516.162109\"/>\n      <use xlink:href=\"#DejaVuSans-31\" x=\"579.785156\"/>\n      <use xlink:href=\"#DejaVuSans-5d\" x=\"643.408203\"/>\n     </g>\n    </g>\n   </g>\n   <g id=\"text_4\">\n    <g id=\"patch_5\">\n     <path d=\"M 389.930646 133.419422 \nL 404.390158 142.996905 \nQ 406.891262 144.65355 408.547908 142.152445 \nL 413.892316 134.083777 \nQ 415.548962 131.582673 413.047857 129.926027 \nL 398.588345 120.348544 \nQ 396.087241 118.691898 394.430595 121.193003 \nL 389.086187 129.261671 \nQ 387.429541 131.762776 389.930646 133.419422 \nz\n\" clip-path=\"url(#p4f944ca353)\" style=\"fill: #ffffff; stroke: #ffffff; stroke-linejoin: miter\"/>\n    </g>\n    <g clip-path=\"url(#p4f944ca353)\">\n     <!-- [1.] -->\n     <g transform=\"translate(392.735727 129.184478) rotate(-326.480879) scale(0.1 -0.1)\">\n      <use xlink:href=\"#DejaVuSans-5b\"/>\n      <use xlink:href=\"#DejaVuSans-31\" x=\"39.013672\"/>\n      <use xlink:href=\"#DejaVuSans-2e\" x=\"102.636719\"/>\n      <use xlink:href=\"#DejaVuSans-5d\" x=\"134.423828\"/>\n     </g>\n    </g>\n   </g>\n   <g id=\"text_5\">\n    <g id=\"patch_6\">\n     <path d=\"M 277.994668 375.601282 \nL 303.063032 358.99686 \nQ 305.564137 357.340214 303.907491 354.839109 \nL 298.563083 346.770441 \nQ 296.906437 344.269336 294.405332 345.925982 \nL 269.336968 362.530405 \nQ 266.835863 364.187051 268.492509 366.688155 \nL 273.836917 374.756823 \nQ 275.493563 377.257928 277.994668 375.601282 \nz\n\" clip-path=\"url(#p4f944ca353)\" style=\"fill: #ffffff; stroke: #ffffff; stroke-linejoin: miter\"/>\n    </g>\n    <g clip-path=\"url(#p4f944ca353)\">\n     <!-- [0.25] -->\n     <g transform=\"translate(275.189587 371.366339) rotate(-33.519122) scale(0.1 -0.1)\">\n      <use xlink:href=\"#DejaVuSans-5b\"/>\n      <use xlink:href=\"#DejaVuSans-30\" x=\"39.013672\"/>\n      <use xlink:href=\"#DejaVuSans-2e\" x=\"102.636719\"/>\n      <use xlink:href=\"#DejaVuSans-32\" x=\"134.423828\"/>\n      <use xlink:href=\"#DejaVuSans-35\" x=\"198.046875\"/>\n      <use xlink:href=\"#DejaVuSans-5d\" x=\"261.669922\"/>\n     </g>\n    </g>\n   </g>\n   <g id=\"text_6\">\n    <g id=\"patch_7\">\n     <path d=\"M 389.930646 133.419421 \nL 404.390157 142.996905 \nQ 406.891262 144.65355 408.547908 142.152446 \nL 413.892316 134.083778 \nQ 415.548962 131.582673 413.047857 129.926027 \nL 398.588346 120.348544 \nQ 396.087241 118.691898 394.430595 121.193003 \nL 389.086187 129.261671 \nQ 387.429541 131.762775 389.930646 133.419421 \nz\n\" clip-path=\"url(#p4f944ca353)\" style=\"fill: #ffffff; stroke: #ffffff; stroke-linejoin: miter\"/>\n    </g>\n    <g clip-path=\"url(#p4f944ca353)\">\n     <!-- [1.] -->\n     <g transform=\"translate(392.735727 129.184478) rotate(-326.480878) scale(0.1 -0.1)\">\n      <use xlink:href=\"#DejaVuSans-5b\"/>\n      <use xlink:href=\"#DejaVuSans-31\" x=\"39.013672\"/>\n      <use xlink:href=\"#DejaVuSans-2e\" x=\"102.636719\"/>\n      <use xlink:href=\"#DejaVuSans-5d\" x=\"134.423828\"/>\n     </g>\n    </g>\n   </g>\n   <g id=\"PathCollection_1\">\n    <defs>\n     <path id=\"mb972155208\" d=\"M 0 8.660254 \nC 2.296726 8.660254 4.499694 7.747755 6.123724 6.123724 \nC 7.747755 4.499694 8.660254 2.296726 8.660254 0 \nC 8.660254 -2.296726 7.747755 -4.499694 6.123724 -6.123724 \nC 4.499694 -7.747755 2.296726 -8.660254 0 -8.660254 \nC -2.296726 -8.660254 -4.499694 -7.747755 -6.123724 -6.123724 \nC -7.747755 -4.499694 -8.660254 -2.296726 -8.660254 0 \nC -8.660254 2.296726 -7.747755 4.499694 -6.123724 6.123724 \nC -4.499694 7.747755 -2.296726 8.660254 0 8.660254 \nz\n\" style=\"stroke: #1f78b4\"/>\n    </defs>\n    <g clip-path=\"url(#p4f944ca353)\">\n     <use xlink:href=\"#mb972155208\" x=\"55.621488\" y=\"513.490908\" style=\"fill: #1f78b4; stroke: #1f78b4\"/>\n     <use xlink:href=\"#mb972155208\" x=\"286.199991\" y=\"55.309092\" style=\"fill: #1f78b4; stroke: #1f78b4\"/>\n     <use xlink:href=\"#mb972155208\" x=\"516.778512\" y=\"208.036356\" style=\"fill: #1f78b4; stroke: #1f78b4\"/>\n    </g>\n   </g>\n   <g id=\"text_7\">\n    <g clip-path=\"url(#p4f944ca353)\">\n     <!-- [0.  1.  0.2 0.4] -->\n     <g transform=\"translate(10.872738 522.609033) scale(0.12 -0.12)\">\n      <defs>\n       <path id=\"DejaVuSans-20\" transform=\"scale(0.015625)\"/>\n       <path id=\"DejaVuSans-34\" d=\"M 2419 4116 \nL 825 1625 \nL 2419 1625 \nL 2419 4116 \nz\nM 2253 4666 \nL 3047 4666 \nL 3047 1625 \nL 3713 1625 \nL 3713 1100 \nL 3047 1100 \nL 3047 0 \nL 2419 0 \nL 2419 1100 \nL 313 1100 \nL 313 1709 \nL 2253 4666 \nz\n\" transform=\"scale(0.015625)\"/>\n      </defs>\n      <use xlink:href=\"#DejaVuSans-5b\"/>\n      <use xlink:href=\"#DejaVuSans-30\" x=\"39.013672\"/>\n      <use xlink:href=\"#DejaVuSans-2e\" x=\"102.636719\"/>\n      <use xlink:href=\"#DejaVuSans-20\" x=\"134.423828\"/>\n      <use xlink:href=\"#DejaVuSans-20\" x=\"166.210938\"/>\n      <use xlink:href=\"#DejaVuSans-31\" x=\"197.998047\"/>\n      <use xlink:href=\"#DejaVuSans-2e\" x=\"261.621094\"/>\n      <use xlink:href=\"#DejaVuSans-20\" x=\"293.408203\"/>\n      <use xlink:href=\"#DejaVuSans-20\" x=\"325.195312\"/>\n      <use xlink:href=\"#DejaVuSans-30\" x=\"356.982422\"/>\n      <use xlink:href=\"#DejaVuSans-2e\" x=\"420.605469\"/>\n      <use xlink:href=\"#DejaVuSans-32\" x=\"452.392578\"/>\n      <use xlink:href=\"#DejaVuSans-20\" x=\"516.015625\"/>\n      <use xlink:href=\"#DejaVuSans-30\" x=\"547.802734\"/>\n      <use xlink:href=\"#DejaVuSans-2e\" x=\"611.425781\"/>\n      <use xlink:href=\"#DejaVuSans-34\" x=\"643.212891\"/>\n      <use xlink:href=\"#DejaVuSans-5d\" x=\"706.835938\"/>\n     </g>\n    </g>\n   </g>\n   <g id=\"text_8\">\n    <g clip-path=\"url(#p4f944ca353)\">\n     <!-- [0.  1.  0.4 1. ] -->\n     <g transform=\"translate(243.361866 64.427217) scale(0.12 -0.12)\">\n      <use xlink:href=\"#DejaVuSans-5b\"/>\n      <use xlink:href=\"#DejaVuSans-30\" x=\"39.013672\"/>\n      <use xlink:href=\"#DejaVuSans-2e\" x=\"102.636719\"/>\n      <use xlink:href=\"#DejaVuSans-20\" x=\"134.423828\"/>\n      <use xlink:href=\"#DejaVuSans-20\" x=\"166.210938\"/>\n      <use xlink:href=\"#DejaVuSans-31\" x=\"197.998047\"/>\n      <use xlink:href=\"#DejaVuSans-2e\" x=\"261.621094\"/>\n      <use xlink:href=\"#DejaVuSans-20\" x=\"293.408203\"/>\n      <use xlink:href=\"#DejaVuSans-20\" x=\"325.195312\"/>\n      <use xlink:href=\"#DejaVuSans-30\" x=\"356.982422\"/>\n      <use xlink:href=\"#DejaVuSans-2e\" x=\"420.605469\"/>\n      <use xlink:href=\"#DejaVuSans-34\" x=\"452.392578\"/>\n      <use xlink:href=\"#DejaVuSans-20\" x=\"516.015625\"/>\n      <use xlink:href=\"#DejaVuSans-31\" x=\"547.802734\"/>\n      <use xlink:href=\"#DejaVuSans-2e\" x=\"611.425781\"/>\n      <use xlink:href=\"#DejaVuSans-20\" x=\"643.212891\"/>\n      <use xlink:href=\"#DejaVuSans-5d\" x=\"675\"/>\n     </g>\n    </g>\n   </g>\n   <g id=\"text_9\">\n    <g clip-path=\"url(#p4f944ca353)\">\n     <!-- [0.  1.  0.6 0.8] -->\n     <g transform=\"translate(472.029762 217.154481) scale(0.12 -0.12)\">\n      <defs>\n       <path id=\"DejaVuSans-36\" d=\"M 2113 2584 \nQ 1688 2584 1439 2293 \nQ 1191 2003 1191 1497 \nQ 1191 994 1439 701 \nQ 1688 409 2113 409 \nQ 2538 409 2786 701 \nQ 3034 994 3034 1497 \nQ 3034 2003 2786 2293 \nQ 2538 2584 2113 2584 \nz\nM 3366 4563 \nL 3366 3988 \nQ 3128 4100 2886 4159 \nQ 2644 4219 2406 4219 \nQ 1781 4219 1451 3797 \nQ 1122 3375 1075 2522 \nQ 1259 2794 1537 2939 \nQ 1816 3084 2150 3084 \nQ 2853 3084 3261 2657 \nQ 3669 2231 3669 1497 \nQ 3669 778 3244 343 \nQ 2819 -91 2113 -91 \nQ 1303 -91 875 529 \nQ 447 1150 447 2328 \nQ 447 3434 972 4092 \nQ 1497 4750 2381 4750 \nQ 2619 4750 2861 4703 \nQ 3103 4656 3366 4563 \nz\n\" transform=\"scale(0.015625)\"/>\n       <path id=\"DejaVuSans-38\" d=\"M 2034 2216 \nQ 1584 2216 1326 1975 \nQ 1069 1734 1069 1313 \nQ 1069 891 1326 650 \nQ 1584 409 2034 409 \nQ 2484 409 2743 651 \nQ 3003 894 3003 1313 \nQ 3003 1734 2745 1975 \nQ 2488 2216 2034 2216 \nz\nM 1403 2484 \nQ 997 2584 770 2862 \nQ 544 3141 544 3541 \nQ 544 4100 942 4425 \nQ 1341 4750 2034 4750 \nQ 2731 4750 3128 4425 \nQ 3525 4100 3525 3541 \nQ 3525 3141 3298 2862 \nQ 3072 2584 2669 2484 \nQ 3125 2378 3379 2068 \nQ 3634 1759 3634 1313 \nQ 3634 634 3220 271 \nQ 2806 -91 2034 -91 \nQ 1263 -91 848 271 \nQ 434 634 434 1313 \nQ 434 1759 690 2068 \nQ 947 2378 1403 2484 \nz\nM 1172 3481 \nQ 1172 3119 1398 2916 \nQ 1625 2713 2034 2713 \nQ 2441 2713 2670 2916 \nQ 2900 3119 2900 3481 \nQ 2900 3844 2670 4047 \nQ 2441 4250 2034 4250 \nQ 1625 4250 1398 4047 \nQ 1172 3844 1172 3481 \nz\n\" transform=\"scale(0.015625)\"/>\n      </defs>\n      <use xlink:href=\"#DejaVuSans-5b\"/>\n      <use xlink:href=\"#DejaVuSans-30\" x=\"39.013672\"/>\n      <use xlink:href=\"#DejaVuSans-2e\" x=\"102.636719\"/>\n      <use xlink:href=\"#DejaVuSans-20\" x=\"134.423828\"/>\n      <use xlink:href=\"#DejaVuSans-20\" x=\"166.210938\"/>\n      <use xlink:href=\"#DejaVuSans-31\" x=\"197.998047\"/>\n      <use xlink:href=\"#DejaVuSans-2e\" x=\"261.621094\"/>\n      <use xlink:href=\"#DejaVuSans-20\" x=\"293.408203\"/>\n      <use xlink:href=\"#DejaVuSans-20\" x=\"325.195312\"/>\n      <use xlink:href=\"#DejaVuSans-30\" x=\"356.982422\"/>\n      <use xlink:href=\"#DejaVuSans-2e\" x=\"420.605469\"/>\n      <use xlink:href=\"#DejaVuSans-36\" x=\"452.392578\"/>\n      <use xlink:href=\"#DejaVuSans-20\" x=\"516.015625\"/>\n      <use xlink:href=\"#DejaVuSans-30\" x=\"547.802734\"/>\n      <use xlink:href=\"#DejaVuSans-2e\" x=\"611.425781\"/>\n      <use xlink:href=\"#DejaVuSans-38\" x=\"643.212891\"/>\n      <use xlink:href=\"#DejaVuSans-5d\" x=\"706.835938\"/>\n     </g>\n    </g>\n   </g>\n  </g>\n </g>\n <defs>\n  <clipPath id=\"p4f944ca353\">\n   <rect x=\"7.2\" y=\"7.2\" width=\"558\" height=\"554.4\"/>\n  </clipPath>\n </defs>\n</svg>\n"
          },
          "metadata": {}
        }
      ]
    },
    {
      "cell_type": "code",
      "source": [
        "# split the dataset into test and validation:\n",
        "batch_size = 1000\n",
        "num_samples = len(dataset)\n",
        "train_data = dataset[int(.05 * num_samples ) :] # 95% train\n",
        "test_data = dataset[: int(.05 * num_samples )] # 5% test\n",
        "train_loader = DataLoader(train_data, batch_size=batch_size, shuffle=True)\n",
        "test_loader = DataLoader(test_data, batch_size=batch_size, shuffle=True)"
      ],
      "metadata": {
        "id": "mqlTkyyL6KV_"
      },
      "execution_count": null,
      "outputs": []
    },
    {
      "cell_type": "markdown",
      "source": [
        "Construct you network. Train and test."
      ],
      "metadata": {
        "id": "hxndslpbGUoo"
      }
    },
    {
      "cell_type": "code",
      "source": [
        "class GCN(torch.nn.Module):\n",
        "    def __init__(self):\n",
        "        super(GCN, self).__init__()\n",
        "        torch.manual_seed(12345)\n",
        "\n",
        "        num_classes = 4\n",
        "\n",
        "        self.conv1 = GraphConv(data.num_node_features, 4*data.num_node_features)\n",
        "        self.conv2 = GraphConv(4*data.num_node_features,16*data.num_node_features)\n",
        "        self.conv3 = GraphConv(16*data.num_node_features, 4*data.num_node_features)\n",
        "        self.conv4 = GraphConv(4*data.num_node_features, data.num_node_features)\n",
        "\n",
        "        self.linear1 = Linear(data.num_node_features, num_classes)\n",
        "\n",
        "    def forward(self, x, edge_index, edge_attr, batch):\n",
        "        x = self.conv1(x, edge_index, edge_weight=edge_attr) # graph_weights=graph_attribute, more layers\n",
        "        x = x.relu()\n",
        "        x = self.conv2(x, edge_index, edge_weight=edge_attr)\n",
        "        x = x.relu()\n",
        "        x = self.conv3(x, edge_index, edge_weight=edge_attr)\n",
        "        x = x.relu()\n",
        "        x = self.conv4(x, edge_index, edge_weight=edge_attr)\n",
        "\n",
        "        x = global_mean_pool(x, batch)  # [batch_size, hidden_channels]\n",
        "\n",
        "        x = F.dropout(x, p=0.5, training=self.training)\n",
        "        x = self.linear1(x)\n",
        "\n",
        "        return x\n",
        "\n",
        "model = GCN()\n",
        "print(model)"
      ],
      "metadata": {
        "colab": {
          "base_uri": "https://localhost:8080/"
        },
        "id": "Dewm7DHhwlVH",
        "outputId": "742554f1-560e-40e1-a9d6-da2d46184ecd"
      },
      "execution_count": null,
      "outputs": [
        {
          "output_type": "stream",
          "name": "stdout",
          "text": [
            "GCN(\n",
            "  (conv1): GraphConv(4, 16)\n",
            "  (conv2): GraphConv(16, 64)\n",
            "  (conv3): GraphConv(64, 16)\n",
            "  (conv4): GraphConv(16, 4)\n",
            "  (linear1): Linear(in_features=4, out_features=4, bias=True)\n",
            ")\n"
          ]
        }
      ]
    },
    {
      "cell_type": "code",
      "source": [
        "from IPython.display import Javascript\n",
        "display(Javascript('''google.colab.output.setIframeHeight(0, true, {maxHeight: 300})'''))\n",
        "\n",
        "model = GCN()\n",
        "\n",
        "optimizer = torch.optim.Adam(model.parameters(), lr=0.005)\n",
        "criterion = torch.nn.CrossEntropyLoss()\n",
        "\n",
        "def train():\n",
        "    model.train()\n",
        "\n",
        "    batch_count = 0\n",
        "    for batch in train_loader:  # Iterate in batches over the training dataset.\n",
        "        out = model(batch.x, batch.edge_index, batch.edge_attr, batch.batch)  # Perform a single forward pass.\n",
        "\n",
        "        optimizer.zero_grad()  # Clear gradients.\n",
        "\n",
        "        y_tensor = batch.y\n",
        "        y_dec = []\n",
        "        for y in y_tensor:\n",
        "            y_str = str(int(y[0])) + str(int(y[1]))\n",
        "            y_int = int(y_str, 2)\n",
        "            y_dec.append(y_int)\n",
        "        y = torch.tensor(y_dec)\n",
        "\n",
        "        loss = criterion(out, y)  # Compute the loss.\n",
        "        loss.backward()  # Derive gradients.\n",
        "        optimizer.step()  # Update parameters based on gradients.\n",
        "\n",
        "        batch_count += 1\n",
        "        if batch_count % 100 == 0:\n",
        "            print(batch_count, \" / \", len(train_loader))"
      ],
      "metadata": {
        "colab": {
          "base_uri": "https://localhost:8080/",
          "height": 17
        },
        "id": "vQ8kpd67wxk7",
        "outputId": "218ce6f9-b046-4c30-d66e-ead575590c5b"
      },
      "execution_count": null,
      "outputs": [
        {
          "output_type": "display_data",
          "data": {
            "text/plain": [
              "<IPython.core.display.Javascript object>"
            ],
            "application/javascript": [
              "google.colab.output.setIframeHeight(0, true, {maxHeight: 300})"
            ]
          },
          "metadata": {}
        }
      ]
    },
    {
      "cell_type": "code",
      "source": [
        "def test(loader):\n",
        "    model.eval()\n",
        "\n",
        "    correct_tot = 0\n",
        "    loss_tot = 0\n",
        "\n",
        "    for batch in loader:\n",
        "        out = model(batch.x, batch.edge_index, batch.edge_attr, batch.batch)\n",
        "\n",
        "        y_tensor = batch.y\n",
        "        y_dec = []\n",
        "        for y in y_tensor:\n",
        "            y_str = str(int(y[0])) + str(int(y[1]))\n",
        "            y_int = int(y_str, 2)\n",
        "            y_dec.append(y_int)\n",
        "        y = torch.tensor(y_dec)\n",
        "\n",
        "        loss = criterion(out, y)\n",
        "        loss_tot += loss.item()\n",
        "        pred = out.argmax(dim=1)\n",
        "        correct_tot += int((pred == y).sum())\n",
        "\n",
        "    test_acc_avg = correct_tot / len(loader.dataset)\n",
        "    test_loss_avg = loss_tot / len(loader.dataset)\n",
        "\n",
        "    return  test_acc_avg, test_loss_avg"
      ],
      "metadata": {
        "id": "VuRUuIyww1em"
      },
      "execution_count": null,
      "outputs": []
    },
    {
      "cell_type": "code",
      "source": [
        "n_epochs = 20\n",
        "batch_size = 1000\n",
        "n_batches = len(train_loader) #950\n",
        "\n",
        "train_acc_list = []\n",
        "test_acc_list = []\n",
        "epoch_list = []\n",
        "\n",
        "for epoch in range(n_epochs):\n",
        "    train()\n",
        "    train_acc, train_loss = test(train_loader)\n",
        "    test_acc, test_loss = test(test_loader)\n",
        "    train_acc_list.append(train_acc)\n",
        "    test_acc_list.append(test_acc)\n",
        "    epoch_list.append(epoch+1)\n",
        "    print(\"Epoch: \", epoch+1, \"Training accuracy: \",train_acc,  \"Test accuracy: \", test_acc, \"Training loss: \", train_loss, \"Test loss: \", test_loss)"
      ],
      "metadata": {
        "colab": {
          "base_uri": "https://localhost:8080/"
        },
        "id": "Zl9bd1fkw58p",
        "outputId": "c94dc40e-886e-453c-9c4f-9733f0282c76"
      },
      "execution_count": null,
      "outputs": [
        {
          "output_type": "stream",
          "name": "stdout",
          "text": [
            "100  /  950\n",
            "200  /  950\n",
            "300  /  950\n",
            "400  /  950\n",
            "500  /  950\n",
            "600  /  950\n",
            "700  /  950\n",
            "800  /  950\n",
            "900  /  950\n",
            "Epoch:  1 Training accuracy:  0.9431715789473685 Test accuracy:  0.94282 Training loss:  0.00017773792320176175 Test loss:  0.0001787885782122612\n",
            "100  /  950\n",
            "200  /  950\n",
            "300  /  950\n",
            "400  /  950\n",
            "500  /  950\n",
            "600  /  950\n",
            "700  /  950\n",
            "800  /  950\n",
            "900  /  950\n",
            "Epoch:  2 Training accuracy:  0.9521231578947369 Test accuracy:  0.95106 Training loss:  0.00014533471251004622 Test loss:  0.00014588059589266776\n",
            "100  /  950\n",
            "200  /  950\n",
            "300  /  950\n",
            "400  /  950\n",
            "500  /  950\n",
            "600  /  950\n",
            "700  /  950\n",
            "800  /  950\n",
            "900  /  950\n",
            "Epoch:  3 Training accuracy:  0.9560115789473684 Test accuracy:  0.95514 Training loss:  0.00013065697568027596 Test loss:  0.0001321082864701748\n",
            "100  /  950\n",
            "200  /  950\n",
            "300  /  950\n",
            "400  /  950\n",
            "500  /  950\n",
            "600  /  950\n",
            "700  /  950\n",
            "800  /  950\n",
            "900  /  950\n",
            "Epoch:  4 Training accuracy:  0.9585673684210526 Test accuracy:  0.95672 Training loss:  0.0001262239509271948 Test loss:  0.0001281847831606865\n",
            "100  /  950\n",
            "200  /  950\n",
            "300  /  950\n",
            "400  /  950\n",
            "500  /  950\n",
            "600  /  950\n",
            "700  /  950\n",
            "800  /  950\n",
            "900  /  950\n",
            "Epoch:  5 Training accuracy:  0.95944 Test accuracy:  0.95834 Training loss:  0.0001221686772610012 Test loss:  0.00012361516788601874\n",
            "100  /  950\n",
            "200  /  950\n",
            "300  /  950\n",
            "400  /  950\n",
            "500  /  950\n",
            "600  /  950\n",
            "700  /  950\n",
            "800  /  950\n",
            "900  /  950\n",
            "Epoch:  6 Training accuracy:  0.9573831578947368 Test accuracy:  0.95596 Training loss:  0.00012187241736995547 Test loss:  0.0001245253251492977\n",
            "100  /  950\n",
            "200  /  950\n",
            "300  /  950\n",
            "400  /  950\n",
            "500  /  950\n",
            "600  /  950\n",
            "700  /  950\n",
            "800  /  950\n",
            "900  /  950\n",
            "Epoch:  7 Training accuracy:  0.9604842105263158 Test accuracy:  0.95936 Training loss:  0.00011820258006453515 Test loss:  0.00012127481624484062\n",
            "100  /  950\n",
            "200  /  950\n",
            "300  /  950\n",
            "400  /  950\n",
            "500  /  950\n",
            "600  /  950\n",
            "700  /  950\n",
            "800  /  950\n",
            "900  /  950\n",
            "Epoch:  8 Training accuracy:  0.961938947368421 Test accuracy:  0.9619 Training loss:  0.00011637999699303978 Test loss:  0.00011811321213841438\n",
            "100  /  950\n",
            "200  /  950\n",
            "300  /  950\n",
            "400  /  950\n",
            "500  /  950\n",
            "600  /  950\n",
            "700  /  950\n",
            "800  /  950\n",
            "900  /  950\n",
            "Epoch:  9 Training accuracy:  0.9629915789473684 Test accuracy:  0.96192 Training loss:  0.00011121829217201785 Test loss:  0.0001136722955107689\n",
            "100  /  950\n",
            "200  /  950\n",
            "300  /  950\n",
            "400  /  950\n",
            "500  /  950\n",
            "600  /  950\n",
            "700  /  950\n",
            "800  /  950\n",
            "900  /  950\n",
            "Epoch:  10 Training accuracy:  0.9637452631578948 Test accuracy:  0.9627 Training loss:  0.00010878043205330246 Test loss:  0.00011169384330511093\n",
            "100  /  950\n",
            "200  /  950\n",
            "300  /  950\n",
            "400  /  950\n",
            "500  /  950\n",
            "600  /  950\n",
            "700  /  950\n",
            "800  /  950\n",
            "900  /  950\n",
            "Epoch:  11 Training accuracy:  0.9623715789473685 Test accuracy:  0.96116 Training loss:  0.00011350788460750329 Test loss:  0.00011645333141088485\n",
            "100  /  950\n",
            "200  /  950\n",
            "300  /  950\n",
            "400  /  950\n",
            "500  /  950\n",
            "600  /  950\n",
            "700  /  950\n",
            "800  /  950\n",
            "900  /  950\n",
            "Epoch:  12 Training accuracy:  0.9636694736842105 Test accuracy:  0.96312 Training loss:  0.00010761333078930253 Test loss:  0.00011008843049407006\n",
            "100  /  950\n",
            "200  /  950\n",
            "300  /  950\n",
            "400  /  950\n",
            "500  /  950\n",
            "600  /  950\n",
            "700  /  950\n",
            "800  /  950\n",
            "900  /  950\n",
            "Epoch:  13 Training accuracy:  0.96526 Test accuracy:  0.96386 Training loss:  0.00010644381742728384 Test loss:  0.00011115167766809463\n",
            "100  /  950\n",
            "200  /  950\n",
            "300  /  950\n",
            "400  /  950\n",
            "500  /  950\n",
            "600  /  950\n",
            "700  /  950\n",
            "800  /  950\n",
            "900  /  950\n",
            "Epoch:  14 Training accuracy:  0.9643421052631579 Test accuracy:  0.96342 Training loss:  0.00010758296401877152 Test loss:  0.00011198741555213929\n",
            "100  /  950\n",
            "200  /  950\n",
            "300  /  950\n",
            "400  /  950\n",
            "500  /  950\n",
            "600  /  950\n",
            "700  /  950\n",
            "800  /  950\n",
            "900  /  950\n",
            "Epoch:  15 Training accuracy:  0.9652231578947369 Test accuracy:  0.9646 Training loss:  0.00010363198726192901 Test loss:  0.00010818889811635017\n",
            "100  /  950\n",
            "200  /  950\n",
            "300  /  950\n",
            "400  /  950\n",
            "500  /  950\n",
            "600  /  950\n",
            "700  /  950\n",
            "800  /  950\n",
            "900  /  950\n",
            "Epoch:  16 Training accuracy:  0.9648442105263157 Test accuracy:  0.96364 Training loss:  0.00010347788187234025 Test loss:  0.00010788697749376297\n",
            "100  /  950\n",
            "200  /  950\n",
            "300  /  950\n",
            "400  /  950\n",
            "500  /  950\n",
            "600  /  950\n",
            "700  /  950\n",
            "800  /  950\n",
            "900  /  950\n",
            "Epoch:  17 Training accuracy:  0.9670905263157895 Test accuracy:  0.9662 Training loss:  0.00010109216701435416 Test loss:  0.00010461339354515075\n",
            "100  /  950\n",
            "200  /  950\n",
            "300  /  950\n",
            "400  /  950\n",
            "500  /  950\n",
            "600  /  950\n",
            "700  /  950\n",
            "800  /  950\n",
            "900  /  950\n",
            "Epoch:  18 Training accuracy:  0.9662326315789473 Test accuracy:  0.96532 Training loss:  0.0001016287870861982 Test loss:  0.00010431278631091117\n",
            "100  /  950\n",
            "200  /  950\n",
            "300  /  950\n",
            "400  /  950\n",
            "500  /  950\n",
            "600  /  950\n",
            "700  /  950\n",
            "800  /  950\n",
            "900  /  950\n",
            "Epoch:  19 Training accuracy:  0.9670421052631579 Test accuracy:  0.966 Training loss:  0.00010043022543976181 Test loss:  0.0001039466381072998\n",
            "100  /  950\n",
            "200  /  950\n",
            "300  /  950\n",
            "400  /  950\n",
            "500  /  950\n",
            "600  /  950\n",
            "700  /  950\n",
            "800  /  950\n",
            "900  /  950\n",
            "Epoch:  20 Training accuracy:  0.9641442105263158 Test accuracy:  0.96344 Training loss:  0.00010331699673282473 Test loss:  0.00010652673125267029\n"
          ]
        }
      ]
    },
    {
      "cell_type": "code",
      "source": [
        "figsize = 6\n",
        "location = r'/content/drive/MyDrive/Skola/CAS/Advanced Machine Learning/HW A'\n",
        "title = '/A(E)_3'\n",
        "\n",
        "fig, ax = plt.subplots(figsize=(figsize,figsize))\n",
        "ax.plot(epoch_list, train_acc_list, label='Training accuracy')\n",
        "ax.plot(epoch_list, test_acc_list, label='Test accuracy')\n",
        "ax.set_xlabel(\"Epoch\")\n",
        "ax.set_ylabel(\"Accuracy\")\n",
        "ax.set_box_aspect(1)\n",
        "ax.set_xlim([1,epoch_list[-1]])\n",
        "ax.set_xticks([1, 5, 10, 15, 20])\n",
        "ax.legend(loc=\"lower right\", prop={'size': 11})\n",
        "# plt.savefig(location+title+'.png')\n",
        "plt.show()"
      ],
      "metadata": {
        "id": "G8Dv6bAj94l8",
        "colab": {
          "base_uri": "https://localhost:8080/",
          "height": 525
        },
        "outputId": "c52c43ae-75e2-4f7f-e32b-2b594e2508dd"
      },
      "execution_count": null,
      "outputs": [
        {
          "output_type": "display_data",
          "data": {
            "text/plain": [
              "<Figure size 600x600 with 1 Axes>"
            ],
            "image/svg+xml": "<?xml version=\"1.0\" encoding=\"utf-8\" standalone=\"no\"?>\n<!DOCTYPE svg PUBLIC \"-//W3C//DTD SVG 1.1//EN\"\n  \"http://www.w3.org/Graphics/SVG/1.1/DTD/svg11.dtd\">\n<svg xmlns:xlink=\"http://www.w3.org/1999/xlink\" width=\"402.70875pt\" height=\"377.39625pt\" viewBox=\"0 0 402.70875 377.39625\" xmlns=\"http://www.w3.org/2000/svg\" version=\"1.1\">\n <metadata>\n  <rdf:RDF xmlns:dc=\"http://purl.org/dc/elements/1.1/\" xmlns:cc=\"http://creativecommons.org/ns#\" xmlns:rdf=\"http://www.w3.org/1999/02/22-rdf-syntax-ns#\">\n   <cc:Work>\n    <dc:type rdf:resource=\"http://purl.org/dc/dcmitype/StillImage\"/>\n    <dc:date>2023-04-22T11:56:43.060121</dc:date>\n    <dc:format>image/svg+xml</dc:format>\n    <dc:creator>\n     <cc:Agent>\n      <dc:title>Matplotlib v3.7.1, https://matplotlib.org/</dc:title>\n     </cc:Agent>\n    </dc:creator>\n   </cc:Work>\n  </rdf:RDF>\n </metadata>\n <defs>\n  <style type=\"text/css\">*{stroke-linejoin: round; stroke-linecap: butt}</style>\n </defs>\n <g id=\"figure_1\">\n  <g id=\"patch_1\">\n   <path d=\"M 0 377.39625 \nL 402.70875 377.39625 \nL 402.70875 0 \nL 0 0 \nz\n\" style=\"fill: #ffffff\"/>\n  </g>\n  <g id=\"axes_1\">\n   <g id=\"patch_2\">\n    <path d=\"M 56.50625 339.84 \nL 389.14625 339.84 \nL 389.14625 7.2 \nL 56.50625 7.2 \nz\n\" style=\"fill: #ffffff\"/>\n   </g>\n   <g id=\"matplotlib.axis_1\">\n    <g id=\"xtick_1\">\n     <g id=\"line2d_1\">\n      <defs>\n       <path id=\"m6ea5674968\" d=\"M 0 0 \nL 0 3.5 \n\" style=\"stroke: #000000; stroke-width: 0.8\"/>\n      </defs>\n      <g>\n       <use xlink:href=\"#m6ea5674968\" x=\"56.50625\" y=\"339.84\" style=\"stroke: #000000; stroke-width: 0.8\"/>\n      </g>\n     </g>\n     <g id=\"text_1\">\n      <!-- 1 -->\n      <g transform=\"translate(53.325 354.438437) scale(0.1 -0.1)\">\n       <defs>\n        <path id=\"DejaVuSans-31\" d=\"M 794 531 \nL 1825 531 \nL 1825 4091 \nL 703 3866 \nL 703 4441 \nL 1819 4666 \nL 2450 4666 \nL 2450 531 \nL 3481 531 \nL 3481 0 \nL 794 0 \nL 794 531 \nz\n\" transform=\"scale(0.015625)\"/>\n       </defs>\n       <use xlink:href=\"#DejaVuSans-31\"/>\n      </g>\n     </g>\n    </g>\n    <g id=\"xtick_2\">\n     <g id=\"line2d_2\">\n      <g>\n       <use xlink:href=\"#m6ea5674968\" x=\"126.535724\" y=\"339.84\" style=\"stroke: #000000; stroke-width: 0.8\"/>\n      </g>\n     </g>\n     <g id=\"text_2\">\n      <!-- 5 -->\n      <g transform=\"translate(123.354474 354.438437) scale(0.1 -0.1)\">\n       <defs>\n        <path id=\"DejaVuSans-35\" d=\"M 691 4666 \nL 3169 4666 \nL 3169 4134 \nL 1269 4134 \nL 1269 2991 \nQ 1406 3038 1543 3061 \nQ 1681 3084 1819 3084 \nQ 2600 3084 3056 2656 \nQ 3513 2228 3513 1497 \nQ 3513 744 3044 326 \nQ 2575 -91 1722 -91 \nQ 1428 -91 1123 -41 \nQ 819 9 494 109 \nL 494 744 \nQ 775 591 1075 516 \nQ 1375 441 1709 441 \nQ 2250 441 2565 725 \nQ 2881 1009 2881 1497 \nQ 2881 1984 2565 2268 \nQ 2250 2553 1709 2553 \nQ 1456 2553 1204 2497 \nQ 953 2441 691 2322 \nL 691 4666 \nz\n\" transform=\"scale(0.015625)\"/>\n       </defs>\n       <use xlink:href=\"#DejaVuSans-35\"/>\n      </g>\n     </g>\n    </g>\n    <g id=\"xtick_3\">\n     <g id=\"line2d_3\">\n      <g>\n       <use xlink:href=\"#m6ea5674968\" x=\"214.072566\" y=\"339.84\" style=\"stroke: #000000; stroke-width: 0.8\"/>\n      </g>\n     </g>\n     <g id=\"text_3\">\n      <!-- 10 -->\n      <g transform=\"translate(207.710066 354.438437) scale(0.1 -0.1)\">\n       <defs>\n        <path id=\"DejaVuSans-30\" d=\"M 2034 4250 \nQ 1547 4250 1301 3770 \nQ 1056 3291 1056 2328 \nQ 1056 1369 1301 889 \nQ 1547 409 2034 409 \nQ 2525 409 2770 889 \nQ 3016 1369 3016 2328 \nQ 3016 3291 2770 3770 \nQ 2525 4250 2034 4250 \nz\nM 2034 4750 \nQ 2819 4750 3233 4129 \nQ 3647 3509 3647 2328 \nQ 3647 1150 3233 529 \nQ 2819 -91 2034 -91 \nQ 1250 -91 836 529 \nQ 422 1150 422 2328 \nQ 422 3509 836 4129 \nQ 1250 4750 2034 4750 \nz\n\" transform=\"scale(0.015625)\"/>\n       </defs>\n       <use xlink:href=\"#DejaVuSans-31\"/>\n       <use xlink:href=\"#DejaVuSans-30\" x=\"63.623047\"/>\n      </g>\n     </g>\n    </g>\n    <g id=\"xtick_4\">\n     <g id=\"line2d_4\">\n      <g>\n       <use xlink:href=\"#m6ea5674968\" x=\"301.609408\" y=\"339.84\" style=\"stroke: #000000; stroke-width: 0.8\"/>\n      </g>\n     </g>\n     <g id=\"text_4\">\n      <!-- 15 -->\n      <g transform=\"translate(295.246908 354.438437) scale(0.1 -0.1)\">\n       <use xlink:href=\"#DejaVuSans-31\"/>\n       <use xlink:href=\"#DejaVuSans-35\" x=\"63.623047\"/>\n      </g>\n     </g>\n    </g>\n    <g id=\"xtick_5\">\n     <g id=\"line2d_5\">\n      <g>\n       <use xlink:href=\"#m6ea5674968\" x=\"389.14625\" y=\"339.84\" style=\"stroke: #000000; stroke-width: 0.8\"/>\n      </g>\n     </g>\n     <g id=\"text_5\">\n      <!-- 20 -->\n      <g transform=\"translate(382.78375 354.438437) scale(0.1 -0.1)\">\n       <defs>\n        <path id=\"DejaVuSans-32\" d=\"M 1228 531 \nL 3431 531 \nL 3431 0 \nL 469 0 \nL 469 531 \nQ 828 903 1448 1529 \nQ 2069 2156 2228 2338 \nQ 2531 2678 2651 2914 \nQ 2772 3150 2772 3378 \nQ 2772 3750 2511 3984 \nQ 2250 4219 1831 4219 \nQ 1534 4219 1204 4116 \nQ 875 4013 500 3803 \nL 500 4441 \nQ 881 4594 1212 4672 \nQ 1544 4750 1819 4750 \nQ 2544 4750 2975 4387 \nQ 3406 4025 3406 3419 \nQ 3406 3131 3298 2873 \nQ 3191 2616 2906 2266 \nQ 2828 2175 2409 1742 \nQ 1991 1309 1228 531 \nz\n\" transform=\"scale(0.015625)\"/>\n       </defs>\n       <use xlink:href=\"#DejaVuSans-32\"/>\n       <use xlink:href=\"#DejaVuSans-30\" x=\"63.623047\"/>\n      </g>\n     </g>\n    </g>\n    <g id=\"text_6\">\n     <!-- Epoch -->\n     <g transform=\"translate(207.515312 368.116562) scale(0.1 -0.1)\">\n      <defs>\n       <path id=\"DejaVuSans-45\" d=\"M 628 4666 \nL 3578 4666 \nL 3578 4134 \nL 1259 4134 \nL 1259 2753 \nL 3481 2753 \nL 3481 2222 \nL 1259 2222 \nL 1259 531 \nL 3634 531 \nL 3634 0 \nL 628 0 \nL 628 4666 \nz\n\" transform=\"scale(0.015625)\"/>\n       <path id=\"DejaVuSans-70\" d=\"M 1159 525 \nL 1159 -1331 \nL 581 -1331 \nL 581 3500 \nL 1159 3500 \nL 1159 2969 \nQ 1341 3281 1617 3432 \nQ 1894 3584 2278 3584 \nQ 2916 3584 3314 3078 \nQ 3713 2572 3713 1747 \nQ 3713 922 3314 415 \nQ 2916 -91 2278 -91 \nQ 1894 -91 1617 61 \nQ 1341 213 1159 525 \nz\nM 3116 1747 \nQ 3116 2381 2855 2742 \nQ 2594 3103 2138 3103 \nQ 1681 3103 1420 2742 \nQ 1159 2381 1159 1747 \nQ 1159 1113 1420 752 \nQ 1681 391 2138 391 \nQ 2594 391 2855 752 \nQ 3116 1113 3116 1747 \nz\n\" transform=\"scale(0.015625)\"/>\n       <path id=\"DejaVuSans-6f\" d=\"M 1959 3097 \nQ 1497 3097 1228 2736 \nQ 959 2375 959 1747 \nQ 959 1119 1226 758 \nQ 1494 397 1959 397 \nQ 2419 397 2687 759 \nQ 2956 1122 2956 1747 \nQ 2956 2369 2687 2733 \nQ 2419 3097 1959 3097 \nz\nM 1959 3584 \nQ 2709 3584 3137 3096 \nQ 3566 2609 3566 1747 \nQ 3566 888 3137 398 \nQ 2709 -91 1959 -91 \nQ 1206 -91 779 398 \nQ 353 888 353 1747 \nQ 353 2609 779 3096 \nQ 1206 3584 1959 3584 \nz\n\" transform=\"scale(0.015625)\"/>\n       <path id=\"DejaVuSans-63\" d=\"M 3122 3366 \nL 3122 2828 \nQ 2878 2963 2633 3030 \nQ 2388 3097 2138 3097 \nQ 1578 3097 1268 2742 \nQ 959 2388 959 1747 \nQ 959 1106 1268 751 \nQ 1578 397 2138 397 \nQ 2388 397 2633 464 \nQ 2878 531 3122 666 \nL 3122 134 \nQ 2881 22 2623 -34 \nQ 2366 -91 2075 -91 \nQ 1284 -91 818 406 \nQ 353 903 353 1747 \nQ 353 2603 823 3093 \nQ 1294 3584 2113 3584 \nQ 2378 3584 2631 3529 \nQ 2884 3475 3122 3366 \nz\n\" transform=\"scale(0.015625)\"/>\n       <path id=\"DejaVuSans-68\" d=\"M 3513 2113 \nL 3513 0 \nL 2938 0 \nL 2938 2094 \nQ 2938 2591 2744 2837 \nQ 2550 3084 2163 3084 \nQ 1697 3084 1428 2787 \nQ 1159 2491 1159 1978 \nL 1159 0 \nL 581 0 \nL 581 4863 \nL 1159 4863 \nL 1159 2956 \nQ 1366 3272 1645 3428 \nQ 1925 3584 2291 3584 \nQ 2894 3584 3203 3211 \nQ 3513 2838 3513 2113 \nz\n\" transform=\"scale(0.015625)\"/>\n      </defs>\n      <use xlink:href=\"#DejaVuSans-45\"/>\n      <use xlink:href=\"#DejaVuSans-70\" x=\"63.183594\"/>\n      <use xlink:href=\"#DejaVuSans-6f\" x=\"126.660156\"/>\n      <use xlink:href=\"#DejaVuSans-63\" x=\"187.841797\"/>\n      <use xlink:href=\"#DejaVuSans-68\" x=\"242.822266\"/>\n     </g>\n    </g>\n   </g>\n   <g id=\"matplotlib.axis_2\">\n    <g id=\"ytick_1\">\n     <g id=\"line2d_6\">\n      <defs>\n       <path id=\"m64df6acde4\" d=\"M 0 0 \nL -3.5 0 \n\" style=\"stroke: #000000; stroke-width: 0.8\"/>\n      </defs>\n      <g>\n       <use xlink:href=\"#m64df6acde4\" x=\"56.50625\" y=\"297.558166\" style=\"stroke: #000000; stroke-width: 0.8\"/>\n      </g>\n     </g>\n     <g id=\"text_7\">\n      <!-- 0.945 -->\n      <g transform=\"translate(20.878125 301.357385) scale(0.1 -0.1)\">\n       <defs>\n        <path id=\"DejaVuSans-2e\" d=\"M 684 794 \nL 1344 794 \nL 1344 0 \nL 684 0 \nL 684 794 \nz\n\" transform=\"scale(0.015625)\"/>\n        <path id=\"DejaVuSans-39\" d=\"M 703 97 \nL 703 672 \nQ 941 559 1184 500 \nQ 1428 441 1663 441 \nQ 2288 441 2617 861 \nQ 2947 1281 2994 2138 \nQ 2813 1869 2534 1725 \nQ 2256 1581 1919 1581 \nQ 1219 1581 811 2004 \nQ 403 2428 403 3163 \nQ 403 3881 828 4315 \nQ 1253 4750 1959 4750 \nQ 2769 4750 3195 4129 \nQ 3622 3509 3622 2328 \nQ 3622 1225 3098 567 \nQ 2575 -91 1691 -91 \nQ 1453 -91 1209 -44 \nQ 966 3 703 97 \nz\nM 1959 2075 \nQ 2384 2075 2632 2365 \nQ 2881 2656 2881 3163 \nQ 2881 3666 2632 3958 \nQ 2384 4250 1959 4250 \nQ 1534 4250 1286 3958 \nQ 1038 3666 1038 3163 \nQ 1038 2656 1286 2365 \nQ 1534 2075 1959 2075 \nz\n\" transform=\"scale(0.015625)\"/>\n        <path id=\"DejaVuSans-34\" d=\"M 2419 4116 \nL 825 1625 \nL 2419 1625 \nL 2419 4116 \nz\nM 2253 4666 \nL 3047 4666 \nL 3047 1625 \nL 3713 1625 \nL 3713 1100 \nL 3047 1100 \nL 3047 0 \nL 2419 0 \nL 2419 1100 \nL 313 1100 \nL 313 1709 \nL 2253 4666 \nz\n\" transform=\"scale(0.015625)\"/>\n       </defs>\n       <use xlink:href=\"#DejaVuSans-30\"/>\n       <use xlink:href=\"#DejaVuSans-2e\" x=\"63.623047\"/>\n       <use xlink:href=\"#DejaVuSans-39\" x=\"95.410156\"/>\n       <use xlink:href=\"#DejaVuSans-34\" x=\"159.033203\"/>\n       <use xlink:href=\"#DejaVuSans-35\" x=\"222.65625\"/>\n      </g>\n     </g>\n    </g>\n    <g id=\"ytick_2\">\n     <g id=\"line2d_7\">\n      <g>\n       <use xlink:href=\"#m64df6acde4\" x=\"56.50625\" y=\"235.260383\" style=\"stroke: #000000; stroke-width: 0.8\"/>\n      </g>\n     </g>\n     <g id=\"text_8\">\n      <!-- 0.950 -->\n      <g transform=\"translate(20.878125 239.059601) scale(0.1 -0.1)\">\n       <use xlink:href=\"#DejaVuSans-30\"/>\n       <use xlink:href=\"#DejaVuSans-2e\" x=\"63.623047\"/>\n       <use xlink:href=\"#DejaVuSans-39\" x=\"95.410156\"/>\n       <use xlink:href=\"#DejaVuSans-35\" x=\"159.033203\"/>\n       <use xlink:href=\"#DejaVuSans-30\" x=\"222.65625\"/>\n      </g>\n     </g>\n    </g>\n    <g id=\"ytick_3\">\n     <g id=\"line2d_8\">\n      <g>\n       <use xlink:href=\"#m64df6acde4\" x=\"56.50625\" y=\"172.962599\" style=\"stroke: #000000; stroke-width: 0.8\"/>\n      </g>\n     </g>\n     <g id=\"text_9\">\n      <!-- 0.955 -->\n      <g transform=\"translate(20.878125 176.761818) scale(0.1 -0.1)\">\n       <use xlink:href=\"#DejaVuSans-30\"/>\n       <use xlink:href=\"#DejaVuSans-2e\" x=\"63.623047\"/>\n       <use xlink:href=\"#DejaVuSans-39\" x=\"95.410156\"/>\n       <use xlink:href=\"#DejaVuSans-35\" x=\"159.033203\"/>\n       <use xlink:href=\"#DejaVuSans-35\" x=\"222.65625\"/>\n      </g>\n     </g>\n    </g>\n    <g id=\"ytick_4\">\n     <g id=\"line2d_9\">\n      <g>\n       <use xlink:href=\"#m64df6acde4\" x=\"56.50625\" y=\"110.664815\" style=\"stroke: #000000; stroke-width: 0.8\"/>\n      </g>\n     </g>\n     <g id=\"text_10\">\n      <!-- 0.960 -->\n      <g transform=\"translate(20.878125 114.464034) scale(0.1 -0.1)\">\n       <defs>\n        <path id=\"DejaVuSans-36\" d=\"M 2113 2584 \nQ 1688 2584 1439 2293 \nQ 1191 2003 1191 1497 \nQ 1191 994 1439 701 \nQ 1688 409 2113 409 \nQ 2538 409 2786 701 \nQ 3034 994 3034 1497 \nQ 3034 2003 2786 2293 \nQ 2538 2584 2113 2584 \nz\nM 3366 4563 \nL 3366 3988 \nQ 3128 4100 2886 4159 \nQ 2644 4219 2406 4219 \nQ 1781 4219 1451 3797 \nQ 1122 3375 1075 2522 \nQ 1259 2794 1537 2939 \nQ 1816 3084 2150 3084 \nQ 2853 3084 3261 2657 \nQ 3669 2231 3669 1497 \nQ 3669 778 3244 343 \nQ 2819 -91 2113 -91 \nQ 1303 -91 875 529 \nQ 447 1150 447 2328 \nQ 447 3434 972 4092 \nQ 1497 4750 2381 4750 \nQ 2619 4750 2861 4703 \nQ 3103 4656 3366 4563 \nz\n\" transform=\"scale(0.015625)\"/>\n       </defs>\n       <use xlink:href=\"#DejaVuSans-30\"/>\n       <use xlink:href=\"#DejaVuSans-2e\" x=\"63.623047\"/>\n       <use xlink:href=\"#DejaVuSans-39\" x=\"95.410156\"/>\n       <use xlink:href=\"#DejaVuSans-36\" x=\"159.033203\"/>\n       <use xlink:href=\"#DejaVuSans-30\" x=\"222.65625\"/>\n      </g>\n     </g>\n    </g>\n    <g id=\"ytick_5\">\n     <g id=\"line2d_10\">\n      <g>\n       <use xlink:href=\"#m64df6acde4\" x=\"56.50625\" y=\"48.367031\" style=\"stroke: #000000; stroke-width: 0.8\"/>\n      </g>\n     </g>\n     <g id=\"text_11\">\n      <!-- 0.965 -->\n      <g transform=\"translate(20.878125 52.16625) scale(0.1 -0.1)\">\n       <use xlink:href=\"#DejaVuSans-30\"/>\n       <use xlink:href=\"#DejaVuSans-2e\" x=\"63.623047\"/>\n       <use xlink:href=\"#DejaVuSans-39\" x=\"95.410156\"/>\n       <use xlink:href=\"#DejaVuSans-36\" x=\"159.033203\"/>\n       <use xlink:href=\"#DejaVuSans-35\" x=\"222.65625\"/>\n      </g>\n     </g>\n    </g>\n    <g id=\"text_12\">\n     <!-- Accuracy -->\n     <g transform=\"translate(14.798437 196.348125) rotate(-90) scale(0.1 -0.1)\">\n      <defs>\n       <path id=\"DejaVuSans-41\" d=\"M 2188 4044 \nL 1331 1722 \nL 3047 1722 \nL 2188 4044 \nz\nM 1831 4666 \nL 2547 4666 \nL 4325 0 \nL 3669 0 \nL 3244 1197 \nL 1141 1197 \nL 716 0 \nL 50 0 \nL 1831 4666 \nz\n\" transform=\"scale(0.015625)\"/>\n       <path id=\"DejaVuSans-75\" d=\"M 544 1381 \nL 544 3500 \nL 1119 3500 \nL 1119 1403 \nQ 1119 906 1312 657 \nQ 1506 409 1894 409 \nQ 2359 409 2629 706 \nQ 2900 1003 2900 1516 \nL 2900 3500 \nL 3475 3500 \nL 3475 0 \nL 2900 0 \nL 2900 538 \nQ 2691 219 2414 64 \nQ 2138 -91 1772 -91 \nQ 1169 -91 856 284 \nQ 544 659 544 1381 \nz\nM 1991 3584 \nL 1991 3584 \nz\n\" transform=\"scale(0.015625)\"/>\n       <path id=\"DejaVuSans-72\" d=\"M 2631 2963 \nQ 2534 3019 2420 3045 \nQ 2306 3072 2169 3072 \nQ 1681 3072 1420 2755 \nQ 1159 2438 1159 1844 \nL 1159 0 \nL 581 0 \nL 581 3500 \nL 1159 3500 \nL 1159 2956 \nQ 1341 3275 1631 3429 \nQ 1922 3584 2338 3584 \nQ 2397 3584 2469 3576 \nQ 2541 3569 2628 3553 \nL 2631 2963 \nz\n\" transform=\"scale(0.015625)\"/>\n       <path id=\"DejaVuSans-61\" d=\"M 2194 1759 \nQ 1497 1759 1228 1600 \nQ 959 1441 959 1056 \nQ 959 750 1161 570 \nQ 1363 391 1709 391 \nQ 2188 391 2477 730 \nQ 2766 1069 2766 1631 \nL 2766 1759 \nL 2194 1759 \nz\nM 3341 1997 \nL 3341 0 \nL 2766 0 \nL 2766 531 \nQ 2569 213 2275 61 \nQ 1981 -91 1556 -91 \nQ 1019 -91 701 211 \nQ 384 513 384 1019 \nQ 384 1609 779 1909 \nQ 1175 2209 1959 2209 \nL 2766 2209 \nL 2766 2266 \nQ 2766 2663 2505 2880 \nQ 2244 3097 1772 3097 \nQ 1472 3097 1187 3025 \nQ 903 2953 641 2809 \nL 641 3341 \nQ 956 3463 1253 3523 \nQ 1550 3584 1831 3584 \nQ 2591 3584 2966 3190 \nQ 3341 2797 3341 1997 \nz\n\" transform=\"scale(0.015625)\"/>\n       <path id=\"DejaVuSans-79\" d=\"M 2059 -325 \nQ 1816 -950 1584 -1140 \nQ 1353 -1331 966 -1331 \nL 506 -1331 \nL 506 -850 \nL 844 -850 \nQ 1081 -850 1212 -737 \nQ 1344 -625 1503 -206 \nL 1606 56 \nL 191 3500 \nL 800 3500 \nL 1894 763 \nL 2988 3500 \nL 3597 3500 \nL 2059 -325 \nz\n\" transform=\"scale(0.015625)\"/>\n      </defs>\n      <use xlink:href=\"#DejaVuSans-41\"/>\n      <use xlink:href=\"#DejaVuSans-63\" x=\"66.658203\"/>\n      <use xlink:href=\"#DejaVuSans-63\" x=\"121.638672\"/>\n      <use xlink:href=\"#DejaVuSans-75\" x=\"176.619141\"/>\n      <use xlink:href=\"#DejaVuSans-72\" x=\"239.998047\"/>\n      <use xlink:href=\"#DejaVuSans-61\" x=\"281.111328\"/>\n      <use xlink:href=\"#DejaVuSans-63\" x=\"342.390625\"/>\n      <use xlink:href=\"#DejaVuSans-79\" x=\"397.371094\"/>\n     </g>\n    </g>\n   </g>\n   <g id=\"line2d_11\">\n    <path d=\"M 56.50625 320.339482 \nL 74.013618 208.806776 \nL 91.520987 160.358773 \nL 109.028355 128.514769 \nL 126.535724 117.642167 \nL 144.043092 143.269508 \nL 161.550461 104.631766 \nL 179.057829 86.50639 \nL 196.565197 73.391067 \nL 214.072566 64.000496 \nL 231.579934 81.115993 \nL 249.087303 64.944799 \nL 266.594671 45.127547 \nL 284.102039 56.564108 \nL 301.609408 45.586583 \nL 319.116776 50.308099 \nL 336.624145 22.32 \nL 354.131513 33.008988 \nL 371.638882 22.923305 \nL 389.14625 59.029789 \n\" clip-path=\"url(#p0862797b11)\" style=\"fill: none; stroke: #1f77b4; stroke-width: 1.5; stroke-linecap: square\"/>\n   </g>\n   <g id=\"line2d_12\">\n    <path d=\"M 56.50625 324.72 \nL 74.013618 222.053252 \nL 91.520987 171.218261 \nL 109.028355 151.532161 \nL 126.535724 131.347679 \nL 144.043092 161.001424 \nL 161.550461 118.638931 \nL 179.057829 86.991657 \nL 196.565197 86.742466 \nL 214.072566 77.024012 \nL 231.579934 96.211729 \nL 249.087303 71.790998 \nL 266.594671 62.570926 \nL 284.102039 68.053131 \nL 301.609408 53.350854 \nL 319.116776 65.312028 \nL 336.624145 33.415563 \nL 354.131513 44.379973 \nL 371.638882 35.907475 \nL 389.14625 67.80394 \n\" clip-path=\"url(#p0862797b11)\" style=\"fill: none; stroke: #ff7f0e; stroke-width: 1.5; stroke-linecap: square\"/>\n   </g>\n   <g id=\"patch_3\">\n    <path d=\"M 56.50625 339.84 \nL 56.50625 7.2 \n\" style=\"fill: none; stroke: #000000; stroke-width: 0.8; stroke-linejoin: miter; stroke-linecap: square\"/>\n   </g>\n   <g id=\"patch_4\">\n    <path d=\"M 389.14625 339.84 \nL 389.14625 7.2 \n\" style=\"fill: none; stroke: #000000; stroke-width: 0.8; stroke-linejoin: miter; stroke-linecap: square\"/>\n   </g>\n   <g id=\"patch_5\">\n    <path d=\"M 56.50625 339.84 \nL 389.14625 339.84 \n\" style=\"fill: none; stroke: #000000; stroke-width: 0.8; stroke-linejoin: miter; stroke-linecap: square\"/>\n   </g>\n   <g id=\"patch_6\">\n    <path d=\"M 56.50625 7.2 \nL 389.14625 7.2 \n\" style=\"fill: none; stroke: #000000; stroke-width: 0.8; stroke-linejoin: miter; stroke-linecap: square\"/>\n   </g>\n   <g id=\"legend_1\">\n    <g id=\"patch_7\">\n     <path d=\"M 249.722969 334.34 \nL 381.44625 334.34 \nQ 383.64625 334.34 383.64625 332.14 \nL 383.64625 300.948125 \nQ 383.64625 298.748125 381.44625 298.748125 \nL 249.722969 298.748125 \nQ 247.522969 298.748125 247.522969 300.948125 \nL 247.522969 332.14 \nQ 247.522969 334.34 249.722969 334.34 \nz\n\" style=\"fill: #ffffff; opacity: 0.8; stroke: #cccccc; stroke-linejoin: miter\"/>\n    </g>\n    <g id=\"line2d_13\">\n     <path d=\"M 251.922969 307.656406 \nL 262.922969 307.656406 \nL 273.922969 307.656406 \n\" style=\"fill: none; stroke: #1f77b4; stroke-width: 1.5; stroke-linecap: square\"/>\n    </g>\n    <g id=\"text_13\">\n     <!-- Training accuracy -->\n     <g transform=\"translate(282.722969 311.506406) scale(0.11 -0.11)\">\n      <defs>\n       <path id=\"DejaVuSans-54\" d=\"M -19 4666 \nL 3928 4666 \nL 3928 4134 \nL 2272 4134 \nL 2272 0 \nL 1638 0 \nL 1638 4134 \nL -19 4134 \nL -19 4666 \nz\n\" transform=\"scale(0.015625)\"/>\n       <path id=\"DejaVuSans-69\" d=\"M 603 3500 \nL 1178 3500 \nL 1178 0 \nL 603 0 \nL 603 3500 \nz\nM 603 4863 \nL 1178 4863 \nL 1178 4134 \nL 603 4134 \nL 603 4863 \nz\n\" transform=\"scale(0.015625)\"/>\n       <path id=\"DejaVuSans-6e\" d=\"M 3513 2113 \nL 3513 0 \nL 2938 0 \nL 2938 2094 \nQ 2938 2591 2744 2837 \nQ 2550 3084 2163 3084 \nQ 1697 3084 1428 2787 \nQ 1159 2491 1159 1978 \nL 1159 0 \nL 581 0 \nL 581 3500 \nL 1159 3500 \nL 1159 2956 \nQ 1366 3272 1645 3428 \nQ 1925 3584 2291 3584 \nQ 2894 3584 3203 3211 \nQ 3513 2838 3513 2113 \nz\n\" transform=\"scale(0.015625)\"/>\n       <path id=\"DejaVuSans-67\" d=\"M 2906 1791 \nQ 2906 2416 2648 2759 \nQ 2391 3103 1925 3103 \nQ 1463 3103 1205 2759 \nQ 947 2416 947 1791 \nQ 947 1169 1205 825 \nQ 1463 481 1925 481 \nQ 2391 481 2648 825 \nQ 2906 1169 2906 1791 \nz\nM 3481 434 \nQ 3481 -459 3084 -895 \nQ 2688 -1331 1869 -1331 \nQ 1566 -1331 1297 -1286 \nQ 1028 -1241 775 -1147 \nL 775 -588 \nQ 1028 -725 1275 -790 \nQ 1522 -856 1778 -856 \nQ 2344 -856 2625 -561 \nQ 2906 -266 2906 331 \nL 2906 616 \nQ 2728 306 2450 153 \nQ 2172 0 1784 0 \nQ 1141 0 747 490 \nQ 353 981 353 1791 \nQ 353 2603 747 3093 \nQ 1141 3584 1784 3584 \nQ 2172 3584 2450 3431 \nQ 2728 3278 2906 2969 \nL 2906 3500 \nL 3481 3500 \nL 3481 434 \nz\n\" transform=\"scale(0.015625)\"/>\n       <path id=\"DejaVuSans-20\" transform=\"scale(0.015625)\"/>\n      </defs>\n      <use xlink:href=\"#DejaVuSans-54\"/>\n      <use xlink:href=\"#DejaVuSans-72\" x=\"46.333984\"/>\n      <use xlink:href=\"#DejaVuSans-61\" x=\"87.447266\"/>\n      <use xlink:href=\"#DejaVuSans-69\" x=\"148.726562\"/>\n      <use xlink:href=\"#DejaVuSans-6e\" x=\"176.509766\"/>\n      <use xlink:href=\"#DejaVuSans-69\" x=\"239.888672\"/>\n      <use xlink:href=\"#DejaVuSans-6e\" x=\"267.671875\"/>\n      <use xlink:href=\"#DejaVuSans-67\" x=\"331.050781\"/>\n      <use xlink:href=\"#DejaVuSans-20\" x=\"394.527344\"/>\n      <use xlink:href=\"#DejaVuSans-61\" x=\"426.314453\"/>\n      <use xlink:href=\"#DejaVuSans-63\" x=\"487.59375\"/>\n      <use xlink:href=\"#DejaVuSans-63\" x=\"542.574219\"/>\n      <use xlink:href=\"#DejaVuSans-75\" x=\"597.554688\"/>\n      <use xlink:href=\"#DejaVuSans-72\" x=\"660.933594\"/>\n      <use xlink:href=\"#DejaVuSans-61\" x=\"702.046875\"/>\n      <use xlink:href=\"#DejaVuSans-63\" x=\"763.326172\"/>\n      <use xlink:href=\"#DejaVuSans-79\" x=\"818.306641\"/>\n     </g>\n    </g>\n    <g id=\"line2d_14\">\n     <path d=\"M 251.922969 323.802344 \nL 262.922969 323.802344 \nL 273.922969 323.802344 \n\" style=\"fill: none; stroke: #ff7f0e; stroke-width: 1.5; stroke-linecap: square\"/>\n    </g>\n    <g id=\"text_14\">\n     <!-- Test accuracy -->\n     <g transform=\"translate(282.722969 327.652344) scale(0.11 -0.11)\">\n      <defs>\n       <path id=\"DejaVuSans-65\" d=\"M 3597 1894 \nL 3597 1613 \nL 953 1613 \nQ 991 1019 1311 708 \nQ 1631 397 2203 397 \nQ 2534 397 2845 478 \nQ 3156 559 3463 722 \nL 3463 178 \nQ 3153 47 2828 -22 \nQ 2503 -91 2169 -91 \nQ 1331 -91 842 396 \nQ 353 884 353 1716 \nQ 353 2575 817 3079 \nQ 1281 3584 2069 3584 \nQ 2775 3584 3186 3129 \nQ 3597 2675 3597 1894 \nz\nM 3022 2063 \nQ 3016 2534 2758 2815 \nQ 2500 3097 2075 3097 \nQ 1594 3097 1305 2825 \nQ 1016 2553 972 2059 \nL 3022 2063 \nz\n\" transform=\"scale(0.015625)\"/>\n       <path id=\"DejaVuSans-73\" d=\"M 2834 3397 \nL 2834 2853 \nQ 2591 2978 2328 3040 \nQ 2066 3103 1784 3103 \nQ 1356 3103 1142 2972 \nQ 928 2841 928 2578 \nQ 928 2378 1081 2264 \nQ 1234 2150 1697 2047 \nL 1894 2003 \nQ 2506 1872 2764 1633 \nQ 3022 1394 3022 966 \nQ 3022 478 2636 193 \nQ 2250 -91 1575 -91 \nQ 1294 -91 989 -36 \nQ 684 19 347 128 \nL 347 722 \nQ 666 556 975 473 \nQ 1284 391 1588 391 \nQ 1994 391 2212 530 \nQ 2431 669 2431 922 \nQ 2431 1156 2273 1281 \nQ 2116 1406 1581 1522 \nL 1381 1569 \nQ 847 1681 609 1914 \nQ 372 2147 372 2553 \nQ 372 3047 722 3315 \nQ 1072 3584 1716 3584 \nQ 2034 3584 2315 3537 \nQ 2597 3491 2834 3397 \nz\n\" transform=\"scale(0.015625)\"/>\n       <path id=\"DejaVuSans-74\" d=\"M 1172 4494 \nL 1172 3500 \nL 2356 3500 \nL 2356 3053 \nL 1172 3053 \nL 1172 1153 \nQ 1172 725 1289 603 \nQ 1406 481 1766 481 \nL 2356 481 \nL 2356 0 \nL 1766 0 \nQ 1100 0 847 248 \nQ 594 497 594 1153 \nL 594 3053 \nL 172 3053 \nL 172 3500 \nL 594 3500 \nL 594 4494 \nL 1172 4494 \nz\n\" transform=\"scale(0.015625)\"/>\n      </defs>\n      <use xlink:href=\"#DejaVuSans-54\"/>\n      <use xlink:href=\"#DejaVuSans-65\" x=\"44.083984\"/>\n      <use xlink:href=\"#DejaVuSans-73\" x=\"105.607422\"/>\n      <use xlink:href=\"#DejaVuSans-74\" x=\"157.707031\"/>\n      <use xlink:href=\"#DejaVuSans-20\" x=\"196.916016\"/>\n      <use xlink:href=\"#DejaVuSans-61\" x=\"228.703125\"/>\n      <use xlink:href=\"#DejaVuSans-63\" x=\"289.982422\"/>\n      <use xlink:href=\"#DejaVuSans-63\" x=\"344.962891\"/>\n      <use xlink:href=\"#DejaVuSans-75\" x=\"399.943359\"/>\n      <use xlink:href=\"#DejaVuSans-72\" x=\"463.322266\"/>\n      <use xlink:href=\"#DejaVuSans-61\" x=\"504.435547\"/>\n      <use xlink:href=\"#DejaVuSans-63\" x=\"565.714844\"/>\n      <use xlink:href=\"#DejaVuSans-79\" x=\"620.695312\"/>\n     </g>\n    </g>\n   </g>\n  </g>\n </g>\n <defs>\n  <clipPath id=\"p0862797b11\">\n   <rect x=\"56.50625\" y=\"7.2\" width=\"332.64\" height=\"332.64\"/>\n  </clipPath>\n </defs>\n</svg>\n"
          },
          "metadata": {}
        }
      ]
    }
  ],
  "metadata": {
    "colab": {
      "provenance": []
    },
    "kernelspec": {
      "display_name": "Python 3 (ipykernel)",
      "language": "python",
      "name": "python3"
    },
    "language_info": {
      "codemirror_mode": {
        "name": "ipython",
        "version": 3
      },
      "file_extension": ".py",
      "mimetype": "text/x-python",
      "name": "python",
      "nbconvert_exporter": "python",
      "pygments_lexer": "ipython3",
      "version": "3.8.16"
    },
    "vscode": {
      "interpreter": {
        "hash": "c7d4e6ef1ba7a8f36b6781798b3ea2b625aed32dd7d2ea93010a6ab7256d8c2c"
      }
    },
    "accelerator": "TPU",
    "gpuClass": "standard"
  },
  "nbformat": 4,
  "nbformat_minor": 0
}